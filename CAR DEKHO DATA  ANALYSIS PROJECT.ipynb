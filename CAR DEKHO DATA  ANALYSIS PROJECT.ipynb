{
 "cells": [
  {
   "cell_type": "markdown",
   "id": "5339a045",
   "metadata": {},
   "source": [
    "# Importing Important  Libraries"
   ]
  },
  {
   "cell_type": "code",
   "execution_count": 1,
   "id": "3caf3591",
   "metadata": {},
   "outputs": [],
   "source": [
    "import pandas as pd \n",
    "import numpy as np\n",
    "import matplotlib.pyplot as plt\n",
    "import seaborn as sns"
   ]
  },
  {
   "cell_type": "markdown",
   "id": "72367a7f",
   "metadata": {},
   "source": [
    "# OPENING DATA USEING PANDAS"
   ]
  },
  {
   "cell_type": "code",
   "execution_count": 2,
   "id": "353aece2",
   "metadata": {},
   "outputs": [],
   "source": [
    "df=pd.read_csv(\"Car details v3.csv\")"
   ]
  },
  {
   "cell_type": "markdown",
   "id": "720a3f4c",
   "metadata": {},
   "source": [
    "# GETTING BASIC INFORMATION ABOUT DATA"
   ]
  },
  {
   "cell_type": "code",
   "execution_count": 3,
   "id": "82d91f86",
   "metadata": {},
   "outputs": [
    {
     "data": {
      "text/plain": [
       "(8128, 13)"
      ]
     },
     "execution_count": 3,
     "metadata": {},
     "output_type": "execute_result"
    }
   ],
   "source": [
    "df.shape                          #by this we able to know how many rows and clumns we have in our data"
   ]
  },
  {
   "cell_type": "code",
   "execution_count": 4,
   "id": "9d4ee003",
   "metadata": {},
   "outputs": [
    {
     "name": "stdout",
     "output_type": "stream",
     "text": [
      "<class 'pandas.core.frame.DataFrame'>\n",
      "RangeIndex: 8128 entries, 0 to 8127\n",
      "Data columns (total 13 columns):\n",
      " #   Column         Non-Null Count  Dtype  \n",
      "---  ------         --------------  -----  \n",
      " 0   name           8128 non-null   object \n",
      " 1   year           8128 non-null   int64  \n",
      " 2   selling_price  8128 non-null   int64  \n",
      " 3   km_driven      8128 non-null   int64  \n",
      " 4   fuel           8128 non-null   object \n",
      " 5   seller_type    8128 non-null   object \n",
      " 6   transmission   8128 non-null   object \n",
      " 7   owner          8128 non-null   object \n",
      " 8   mileage        7907 non-null   object \n",
      " 9   engine         7907 non-null   object \n",
      " 10  max_power      7913 non-null   object \n",
      " 11  torque         7906 non-null   object \n",
      " 12  seats          7907 non-null   float64\n",
      "dtypes: float64(1), int64(3), object(9)\n",
      "memory usage: 825.6+ KB\n"
     ]
    }
   ],
   "source": [
    "df.info()                         # this command help us to know about data types of each columns"
   ]
  },
  {
   "cell_type": "code",
   "execution_count": 6,
   "id": "0e87f036",
   "metadata": {},
   "outputs": [
    {
     "data": {
      "text/html": [
       "<div>\n",
       "<style scoped>\n",
       "    .dataframe tbody tr th:only-of-type {\n",
       "        vertical-align: middle;\n",
       "    }\n",
       "\n",
       "    .dataframe tbody tr th {\n",
       "        vertical-align: top;\n",
       "    }\n",
       "\n",
       "    .dataframe thead th {\n",
       "        text-align: right;\n",
       "    }\n",
       "</style>\n",
       "<table border=\"1\" class=\"dataframe\">\n",
       "  <thead>\n",
       "    <tr style=\"text-align: right;\">\n",
       "      <th></th>\n",
       "      <th>name</th>\n",
       "      <th>year</th>\n",
       "      <th>selling_price</th>\n",
       "      <th>km_driven</th>\n",
       "      <th>fuel</th>\n",
       "      <th>seller_type</th>\n",
       "      <th>transmission</th>\n",
       "      <th>owner</th>\n",
       "      <th>mileage</th>\n",
       "      <th>engine</th>\n",
       "      <th>max_power</th>\n",
       "      <th>torque</th>\n",
       "      <th>seats</th>\n",
       "    </tr>\n",
       "  </thead>\n",
       "  <tbody>\n",
       "    <tr>\n",
       "      <th>0</th>\n",
       "      <td>Maruti Swift Dzire VDI</td>\n",
       "      <td>2014</td>\n",
       "      <td>450000</td>\n",
       "      <td>145500</td>\n",
       "      <td>Diesel</td>\n",
       "      <td>Individual</td>\n",
       "      <td>Manual</td>\n",
       "      <td>First Owner</td>\n",
       "      <td>23.4 kmpl</td>\n",
       "      <td>1248 CC</td>\n",
       "      <td>74 bhp</td>\n",
       "      <td>190Nm@ 2000rpm</td>\n",
       "      <td>5.0</td>\n",
       "    </tr>\n",
       "    <tr>\n",
       "      <th>1</th>\n",
       "      <td>Skoda Rapid 1.5 TDI Ambition</td>\n",
       "      <td>2014</td>\n",
       "      <td>370000</td>\n",
       "      <td>120000</td>\n",
       "      <td>Diesel</td>\n",
       "      <td>Individual</td>\n",
       "      <td>Manual</td>\n",
       "      <td>Second Owner</td>\n",
       "      <td>21.14 kmpl</td>\n",
       "      <td>1498 CC</td>\n",
       "      <td>103.52 bhp</td>\n",
       "      <td>250Nm@ 1500-2500rpm</td>\n",
       "      <td>5.0</td>\n",
       "    </tr>\n",
       "    <tr>\n",
       "      <th>2</th>\n",
       "      <td>Honda City 2017-2020 EXi</td>\n",
       "      <td>2006</td>\n",
       "      <td>158000</td>\n",
       "      <td>140000</td>\n",
       "      <td>Petrol</td>\n",
       "      <td>Individual</td>\n",
       "      <td>Manual</td>\n",
       "      <td>Third Owner</td>\n",
       "      <td>17.7 kmpl</td>\n",
       "      <td>1497 CC</td>\n",
       "      <td>78 bhp</td>\n",
       "      <td>12.7@ 2,700(kgm@ rpm)</td>\n",
       "      <td>5.0</td>\n",
       "    </tr>\n",
       "    <tr>\n",
       "      <th>3</th>\n",
       "      <td>Hyundai i20 Sportz Diesel</td>\n",
       "      <td>2010</td>\n",
       "      <td>225000</td>\n",
       "      <td>127000</td>\n",
       "      <td>Diesel</td>\n",
       "      <td>Individual</td>\n",
       "      <td>Manual</td>\n",
       "      <td>First Owner</td>\n",
       "      <td>23.0 kmpl</td>\n",
       "      <td>1396 CC</td>\n",
       "      <td>90 bhp</td>\n",
       "      <td>22.4 kgm at 1750-2750rpm</td>\n",
       "      <td>5.0</td>\n",
       "    </tr>\n",
       "    <tr>\n",
       "      <th>4</th>\n",
       "      <td>Maruti Swift VXI BSIII</td>\n",
       "      <td>2007</td>\n",
       "      <td>130000</td>\n",
       "      <td>120000</td>\n",
       "      <td>Petrol</td>\n",
       "      <td>Individual</td>\n",
       "      <td>Manual</td>\n",
       "      <td>First Owner</td>\n",
       "      <td>16.1 kmpl</td>\n",
       "      <td>1298 CC</td>\n",
       "      <td>88.2 bhp</td>\n",
       "      <td>11.5@ 4,500(kgm@ rpm)</td>\n",
       "      <td>5.0</td>\n",
       "    </tr>\n",
       "  </tbody>\n",
       "</table>\n",
       "</div>"
      ],
      "text/plain": [
       "                           name  year  selling_price  km_driven    fuel  \\\n",
       "0        Maruti Swift Dzire VDI  2014         450000     145500  Diesel   \n",
       "1  Skoda Rapid 1.5 TDI Ambition  2014         370000     120000  Diesel   \n",
       "2      Honda City 2017-2020 EXi  2006         158000     140000  Petrol   \n",
       "3     Hyundai i20 Sportz Diesel  2010         225000     127000  Diesel   \n",
       "4        Maruti Swift VXI BSIII  2007         130000     120000  Petrol   \n",
       "\n",
       "  seller_type transmission         owner     mileage   engine   max_power  \\\n",
       "0  Individual       Manual   First Owner   23.4 kmpl  1248 CC      74 bhp   \n",
       "1  Individual       Manual  Second Owner  21.14 kmpl  1498 CC  103.52 bhp   \n",
       "2  Individual       Manual   Third Owner   17.7 kmpl  1497 CC      78 bhp   \n",
       "3  Individual       Manual   First Owner   23.0 kmpl  1396 CC      90 bhp   \n",
       "4  Individual       Manual   First Owner   16.1 kmpl  1298 CC    88.2 bhp   \n",
       "\n",
       "                     torque  seats  \n",
       "0            190Nm@ 2000rpm    5.0  \n",
       "1       250Nm@ 1500-2500rpm    5.0  \n",
       "2     12.7@ 2,700(kgm@ rpm)    5.0  \n",
       "3  22.4 kgm at 1750-2750rpm    5.0  \n",
       "4     11.5@ 4,500(kgm@ rpm)    5.0  "
      ]
     },
     "execution_count": 6,
     "metadata": {},
     "output_type": "execute_result"
    }
   ],
   "source": [
    "df.head(5)                                                   # this command is showing  us first 5 rows of dataset"
   ]
  },
  {
   "cell_type": "code",
   "execution_count": 7,
   "id": "5c484abb",
   "metadata": {
    "scrolled": true
   },
   "outputs": [
    {
     "data": {
      "text/html": [
       "<div>\n",
       "<style scoped>\n",
       "    .dataframe tbody tr th:only-of-type {\n",
       "        vertical-align: middle;\n",
       "    }\n",
       "\n",
       "    .dataframe tbody tr th {\n",
       "        vertical-align: top;\n",
       "    }\n",
       "\n",
       "    .dataframe thead th {\n",
       "        text-align: right;\n",
       "    }\n",
       "</style>\n",
       "<table border=\"1\" class=\"dataframe\">\n",
       "  <thead>\n",
       "    <tr style=\"text-align: right;\">\n",
       "      <th></th>\n",
       "      <th>name</th>\n",
       "      <th>year</th>\n",
       "      <th>selling_price</th>\n",
       "      <th>km_driven</th>\n",
       "      <th>fuel</th>\n",
       "      <th>seller_type</th>\n",
       "      <th>transmission</th>\n",
       "      <th>owner</th>\n",
       "      <th>mileage</th>\n",
       "      <th>engine</th>\n",
       "      <th>max_power</th>\n",
       "      <th>torque</th>\n",
       "      <th>seats</th>\n",
       "    </tr>\n",
       "  </thead>\n",
       "  <tbody>\n",
       "    <tr>\n",
       "      <th>8123</th>\n",
       "      <td>Hyundai i20 Magna</td>\n",
       "      <td>2013</td>\n",
       "      <td>320000</td>\n",
       "      <td>110000</td>\n",
       "      <td>Petrol</td>\n",
       "      <td>Individual</td>\n",
       "      <td>Manual</td>\n",
       "      <td>First Owner</td>\n",
       "      <td>18.5 kmpl</td>\n",
       "      <td>1197 CC</td>\n",
       "      <td>82.85 bhp</td>\n",
       "      <td>113.7Nm@ 4000rpm</td>\n",
       "      <td>5.0</td>\n",
       "    </tr>\n",
       "    <tr>\n",
       "      <th>8124</th>\n",
       "      <td>Hyundai Verna CRDi SX</td>\n",
       "      <td>2007</td>\n",
       "      <td>135000</td>\n",
       "      <td>119000</td>\n",
       "      <td>Diesel</td>\n",
       "      <td>Individual</td>\n",
       "      <td>Manual</td>\n",
       "      <td>Fourth &amp; Above Owner</td>\n",
       "      <td>16.8 kmpl</td>\n",
       "      <td>1493 CC</td>\n",
       "      <td>110 bhp</td>\n",
       "      <td>24@ 1,900-2,750(kgm@ rpm)</td>\n",
       "      <td>5.0</td>\n",
       "    </tr>\n",
       "    <tr>\n",
       "      <th>8125</th>\n",
       "      <td>Maruti Swift Dzire ZDi</td>\n",
       "      <td>2009</td>\n",
       "      <td>382000</td>\n",
       "      <td>120000</td>\n",
       "      <td>Diesel</td>\n",
       "      <td>Individual</td>\n",
       "      <td>Manual</td>\n",
       "      <td>First Owner</td>\n",
       "      <td>19.3 kmpl</td>\n",
       "      <td>1248 CC</td>\n",
       "      <td>73.9 bhp</td>\n",
       "      <td>190Nm@ 2000rpm</td>\n",
       "      <td>5.0</td>\n",
       "    </tr>\n",
       "    <tr>\n",
       "      <th>8126</th>\n",
       "      <td>Tata Indigo CR4</td>\n",
       "      <td>2013</td>\n",
       "      <td>290000</td>\n",
       "      <td>25000</td>\n",
       "      <td>Diesel</td>\n",
       "      <td>Individual</td>\n",
       "      <td>Manual</td>\n",
       "      <td>First Owner</td>\n",
       "      <td>23.57 kmpl</td>\n",
       "      <td>1396 CC</td>\n",
       "      <td>70 bhp</td>\n",
       "      <td>140Nm@ 1800-3000rpm</td>\n",
       "      <td>5.0</td>\n",
       "    </tr>\n",
       "    <tr>\n",
       "      <th>8127</th>\n",
       "      <td>Tata Indigo CR4</td>\n",
       "      <td>2013</td>\n",
       "      <td>290000</td>\n",
       "      <td>25000</td>\n",
       "      <td>Diesel</td>\n",
       "      <td>Individual</td>\n",
       "      <td>Manual</td>\n",
       "      <td>First Owner</td>\n",
       "      <td>23.57 kmpl</td>\n",
       "      <td>1396 CC</td>\n",
       "      <td>70 bhp</td>\n",
       "      <td>140Nm@ 1800-3000rpm</td>\n",
       "      <td>5.0</td>\n",
       "    </tr>\n",
       "  </tbody>\n",
       "</table>\n",
       "</div>"
      ],
      "text/plain": [
       "                        name  year  selling_price  km_driven    fuel  \\\n",
       "8123       Hyundai i20 Magna  2013         320000     110000  Petrol   \n",
       "8124   Hyundai Verna CRDi SX  2007         135000     119000  Diesel   \n",
       "8125  Maruti Swift Dzire ZDi  2009         382000     120000  Diesel   \n",
       "8126         Tata Indigo CR4  2013         290000      25000  Diesel   \n",
       "8127         Tata Indigo CR4  2013         290000      25000  Diesel   \n",
       "\n",
       "     seller_type transmission                 owner     mileage   engine  \\\n",
       "8123  Individual       Manual           First Owner   18.5 kmpl  1197 CC   \n",
       "8124  Individual       Manual  Fourth & Above Owner   16.8 kmpl  1493 CC   \n",
       "8125  Individual       Manual           First Owner   19.3 kmpl  1248 CC   \n",
       "8126  Individual       Manual           First Owner  23.57 kmpl  1396 CC   \n",
       "8127  Individual       Manual           First Owner  23.57 kmpl  1396 CC   \n",
       "\n",
       "      max_power                     torque  seats  \n",
       "8123  82.85 bhp           113.7Nm@ 4000rpm    5.0  \n",
       "8124    110 bhp  24@ 1,900-2,750(kgm@ rpm)    5.0  \n",
       "8125   73.9 bhp             190Nm@ 2000rpm    5.0  \n",
       "8126     70 bhp        140Nm@ 1800-3000rpm    5.0  \n",
       "8127     70 bhp        140Nm@ 1800-3000rpm    5.0  "
      ]
     },
     "execution_count": 7,
     "metadata": {},
     "output_type": "execute_result"
    }
   ],
   "source": [
    "df.tail(5)                                             # this command shows us last 5 entry of dataset"
   ]
  },
  {
   "cell_type": "markdown",
   "id": "f65e1402",
   "metadata": {},
   "source": [
    "# CHECKING MISSING VALUES IN OUR DATSET"
   ]
  },
  {
   "cell_type": "code",
   "execution_count": 8,
   "id": "b322e852",
   "metadata": {},
   "outputs": [
    {
     "data": {
      "text/plain": [
       "name               0\n",
       "year               0\n",
       "selling_price      0\n",
       "km_driven          0\n",
       "fuel               0\n",
       "seller_type        0\n",
       "transmission       0\n",
       "owner              0\n",
       "mileage          221\n",
       "engine           221\n",
       "max_power        215\n",
       "torque           222\n",
       "seats            221\n",
       "dtype: int64"
      ]
     },
     "execution_count": 8,
     "metadata": {},
     "output_type": "execute_result"
    }
   ],
   "source": [
    "df.isna().sum()"
   ]
  },
  {
   "cell_type": "markdown",
   "id": "b67842c2",
   "metadata": {},
   "source": [
    "# OBSERVATION :\n",
    "### * MANY COLUMNS CONTAINS NUMERIC VALUE MIX WITH STRING \n",
    "### * THERE ARE SEVERAL MISSING VALUES IN OUR DATASET"
   ]
  },
  {
   "cell_type": "markdown",
   "id": "b1a5c648",
   "metadata": {},
   "source": [
    "# DATA CLEANING "
   ]
  },
  {
   "cell_type": "markdown",
   "id": "3d60fc9a",
   "metadata": {},
   "source": [
    "# GETTING PERCENTAGE OF MISSING  VALUES IN EACH COLUMN"
   ]
  },
  {
   "cell_type": "code",
   "execution_count": 9,
   "id": "e24cddaa",
   "metadata": {},
   "outputs": [
    {
     "data": {
      "text/plain": [
       "name             0.000000\n",
       "year             0.000000\n",
       "selling_price    0.000000\n",
       "km_driven        0.000000\n",
       "fuel             0.000000\n",
       "seller_type      0.000000\n",
       "transmission     0.000000\n",
       "owner            0.000000\n",
       "mileage          2.718996\n",
       "engine           2.718996\n",
       "max_power        2.645177\n",
       "torque           2.731299\n",
       "seats            2.718996\n",
       "dtype: float64"
      ]
     },
     "execution_count": 9,
     "metadata": {},
     "output_type": "execute_result"
    }
   ],
   "source": [
    "(df.isna().sum()/df.shape[0])*100"
   ]
  },
  {
   "cell_type": "markdown",
   "id": "8fda4748",
   "metadata": {},
   "source": [
    "# GETTING DATA IF THERE IS ANY NULL VALUES "
   ]
  },
  {
   "cell_type": "code",
   "execution_count": 12,
   "id": "df33b8dd",
   "metadata": {},
   "outputs": [
    {
     "data": {
      "text/html": [
       "<div>\n",
       "<style scoped>\n",
       "    .dataframe tbody tr th:only-of-type {\n",
       "        vertical-align: middle;\n",
       "    }\n",
       "\n",
       "    .dataframe tbody tr th {\n",
       "        vertical-align: top;\n",
       "    }\n",
       "\n",
       "    .dataframe thead th {\n",
       "        text-align: right;\n",
       "    }\n",
       "</style>\n",
       "<table border=\"1\" class=\"dataframe\">\n",
       "  <thead>\n",
       "    <tr style=\"text-align: right;\">\n",
       "      <th></th>\n",
       "      <th>name</th>\n",
       "      <th>year</th>\n",
       "      <th>selling_price</th>\n",
       "      <th>km_driven</th>\n",
       "      <th>fuel</th>\n",
       "      <th>seller_type</th>\n",
       "      <th>transmission</th>\n",
       "      <th>owner</th>\n",
       "      <th>mileage</th>\n",
       "      <th>engine</th>\n",
       "      <th>max_power</th>\n",
       "      <th>torque</th>\n",
       "      <th>seats</th>\n",
       "    </tr>\n",
       "  </thead>\n",
       "  <tbody>\n",
       "    <tr>\n",
       "      <th>13</th>\n",
       "      <td>Maruti Swift 1.3 VXi</td>\n",
       "      <td>2007</td>\n",
       "      <td>200000</td>\n",
       "      <td>80000</td>\n",
       "      <td>Petrol</td>\n",
       "      <td>Individual</td>\n",
       "      <td>Manual</td>\n",
       "      <td>Second Owner</td>\n",
       "      <td>NaN</td>\n",
       "      <td>NaN</td>\n",
       "      <td>NaN</td>\n",
       "      <td>NaN</td>\n",
       "      <td>NaN</td>\n",
       "    </tr>\n",
       "    <tr>\n",
       "      <th>31</th>\n",
       "      <td>Fiat Palio 1.2 ELX</td>\n",
       "      <td>2003</td>\n",
       "      <td>70000</td>\n",
       "      <td>50000</td>\n",
       "      <td>Petrol</td>\n",
       "      <td>Individual</td>\n",
       "      <td>Manual</td>\n",
       "      <td>Second Owner</td>\n",
       "      <td>NaN</td>\n",
       "      <td>NaN</td>\n",
       "      <td>NaN</td>\n",
       "      <td>NaN</td>\n",
       "      <td>NaN</td>\n",
       "    </tr>\n",
       "    <tr>\n",
       "      <th>78</th>\n",
       "      <td>Tata Indica DLS</td>\n",
       "      <td>2003</td>\n",
       "      <td>50000</td>\n",
       "      <td>70000</td>\n",
       "      <td>Diesel</td>\n",
       "      <td>Individual</td>\n",
       "      <td>Manual</td>\n",
       "      <td>First Owner</td>\n",
       "      <td>NaN</td>\n",
       "      <td>NaN</td>\n",
       "      <td>NaN</td>\n",
       "      <td>NaN</td>\n",
       "      <td>NaN</td>\n",
       "    </tr>\n",
       "    <tr>\n",
       "      <th>87</th>\n",
       "      <td>Maruti Swift VDI BSIV W ABS</td>\n",
       "      <td>2015</td>\n",
       "      <td>475000</td>\n",
       "      <td>78000</td>\n",
       "      <td>Diesel</td>\n",
       "      <td>Dealer</td>\n",
       "      <td>Manual</td>\n",
       "      <td>First Owner</td>\n",
       "      <td>NaN</td>\n",
       "      <td>NaN</td>\n",
       "      <td>NaN</td>\n",
       "      <td>NaN</td>\n",
       "      <td>NaN</td>\n",
       "    </tr>\n",
       "    <tr>\n",
       "      <th>119</th>\n",
       "      <td>Maruti Swift VDI BSIV</td>\n",
       "      <td>2010</td>\n",
       "      <td>300000</td>\n",
       "      <td>120000</td>\n",
       "      <td>Diesel</td>\n",
       "      <td>Individual</td>\n",
       "      <td>Manual</td>\n",
       "      <td>Second Owner</td>\n",
       "      <td>NaN</td>\n",
       "      <td>NaN</td>\n",
       "      <td>NaN</td>\n",
       "      <td>NaN</td>\n",
       "      <td>NaN</td>\n",
       "    </tr>\n",
       "    <tr>\n",
       "      <th>...</th>\n",
       "      <td>...</td>\n",
       "      <td>...</td>\n",
       "      <td>...</td>\n",
       "      <td>...</td>\n",
       "      <td>...</td>\n",
       "      <td>...</td>\n",
       "      <td>...</td>\n",
       "      <td>...</td>\n",
       "      <td>...</td>\n",
       "      <td>...</td>\n",
       "      <td>...</td>\n",
       "      <td>...</td>\n",
       "      <td>...</td>\n",
       "    </tr>\n",
       "    <tr>\n",
       "      <th>7846</th>\n",
       "      <td>Toyota Qualis Fleet A3</td>\n",
       "      <td>2000</td>\n",
       "      <td>200000</td>\n",
       "      <td>100000</td>\n",
       "      <td>Diesel</td>\n",
       "      <td>Individual</td>\n",
       "      <td>Manual</td>\n",
       "      <td>First Owner</td>\n",
       "      <td>NaN</td>\n",
       "      <td>NaN</td>\n",
       "      <td>NaN</td>\n",
       "      <td>NaN</td>\n",
       "      <td>NaN</td>\n",
       "    </tr>\n",
       "    <tr>\n",
       "      <th>7996</th>\n",
       "      <td>Hyundai Santro LS zipPlus</td>\n",
       "      <td>2000</td>\n",
       "      <td>140000</td>\n",
       "      <td>50000</td>\n",
       "      <td>Petrol</td>\n",
       "      <td>Individual</td>\n",
       "      <td>Manual</td>\n",
       "      <td>Second Owner</td>\n",
       "      <td>NaN</td>\n",
       "      <td>NaN</td>\n",
       "      <td>NaN</td>\n",
       "      <td>NaN</td>\n",
       "      <td>NaN</td>\n",
       "    </tr>\n",
       "    <tr>\n",
       "      <th>8009</th>\n",
       "      <td>Hyundai Santro Xing XS eRLX Euro III</td>\n",
       "      <td>2006</td>\n",
       "      <td>145000</td>\n",
       "      <td>80000</td>\n",
       "      <td>Petrol</td>\n",
       "      <td>Individual</td>\n",
       "      <td>Manual</td>\n",
       "      <td>Second Owner</td>\n",
       "      <td>NaN</td>\n",
       "      <td>NaN</td>\n",
       "      <td>NaN</td>\n",
       "      <td>NaN</td>\n",
       "      <td>NaN</td>\n",
       "    </tr>\n",
       "    <tr>\n",
       "      <th>8068</th>\n",
       "      <td>Ford Figo Aspire Facelift</td>\n",
       "      <td>2017</td>\n",
       "      <td>580000</td>\n",
       "      <td>165000</td>\n",
       "      <td>Diesel</td>\n",
       "      <td>Individual</td>\n",
       "      <td>Manual</td>\n",
       "      <td>First Owner</td>\n",
       "      <td>NaN</td>\n",
       "      <td>NaN</td>\n",
       "      <td>NaN</td>\n",
       "      <td>NaN</td>\n",
       "      <td>NaN</td>\n",
       "    </tr>\n",
       "    <tr>\n",
       "      <th>8103</th>\n",
       "      <td>Maruti Swift 1.3 VXi</td>\n",
       "      <td>2006</td>\n",
       "      <td>130000</td>\n",
       "      <td>100000</td>\n",
       "      <td>Petrol</td>\n",
       "      <td>Individual</td>\n",
       "      <td>Manual</td>\n",
       "      <td>Second Owner</td>\n",
       "      <td>NaN</td>\n",
       "      <td>NaN</td>\n",
       "      <td>NaN</td>\n",
       "      <td>NaN</td>\n",
       "      <td>NaN</td>\n",
       "    </tr>\n",
       "  </tbody>\n",
       "</table>\n",
       "<p>222 rows × 13 columns</p>\n",
       "</div>"
      ],
      "text/plain": [
       "                                      name  year  selling_price  km_driven  \\\n",
       "13                    Maruti Swift 1.3 VXi  2007         200000      80000   \n",
       "31                      Fiat Palio 1.2 ELX  2003          70000      50000   \n",
       "78                         Tata Indica DLS  2003          50000      70000   \n",
       "87             Maruti Swift VDI BSIV W ABS  2015         475000      78000   \n",
       "119                  Maruti Swift VDI BSIV  2010         300000     120000   \n",
       "...                                    ...   ...            ...        ...   \n",
       "7846                Toyota Qualis Fleet A3  2000         200000     100000   \n",
       "7996             Hyundai Santro LS zipPlus  2000         140000      50000   \n",
       "8009  Hyundai Santro Xing XS eRLX Euro III  2006         145000      80000   \n",
       "8068             Ford Figo Aspire Facelift  2017         580000     165000   \n",
       "8103                  Maruti Swift 1.3 VXi  2006         130000     100000   \n",
       "\n",
       "        fuel seller_type transmission         owner mileage engine max_power  \\\n",
       "13    Petrol  Individual       Manual  Second Owner     NaN    NaN       NaN   \n",
       "31    Petrol  Individual       Manual  Second Owner     NaN    NaN       NaN   \n",
       "78    Diesel  Individual       Manual   First Owner     NaN    NaN       NaN   \n",
       "87    Diesel      Dealer       Manual   First Owner     NaN    NaN       NaN   \n",
       "119   Diesel  Individual       Manual  Second Owner     NaN    NaN       NaN   \n",
       "...      ...         ...          ...           ...     ...    ...       ...   \n",
       "7846  Diesel  Individual       Manual   First Owner     NaN    NaN       NaN   \n",
       "7996  Petrol  Individual       Manual  Second Owner     NaN    NaN       NaN   \n",
       "8009  Petrol  Individual       Manual  Second Owner     NaN    NaN       NaN   \n",
       "8068  Diesel  Individual       Manual   First Owner     NaN    NaN       NaN   \n",
       "8103  Petrol  Individual       Manual  Second Owner     NaN    NaN       NaN   \n",
       "\n",
       "     torque  seats  \n",
       "13      NaN    NaN  \n",
       "31      NaN    NaN  \n",
       "78      NaN    NaN  \n",
       "87      NaN    NaN  \n",
       "119     NaN    NaN  \n",
       "...     ...    ...  \n",
       "7846    NaN    NaN  \n",
       "7996    NaN    NaN  \n",
       "8009    NaN    NaN  \n",
       "8068    NaN    NaN  \n",
       "8103    NaN    NaN  \n",
       "\n",
       "[222 rows x 13 columns]"
      ]
     },
     "execution_count": 12,
     "metadata": {},
     "output_type": "execute_result"
    }
   ],
   "source": [
    "df[df.isna().any(axis=1)]"
   ]
  },
  {
   "cell_type": "code",
   "execution_count": 13,
   "id": "b7185560",
   "metadata": {},
   "outputs": [
    {
     "data": {
      "text/plain": [
       "0        23.4 kmpl\n",
       "1       21.14 kmpl\n",
       "2        17.7 kmpl\n",
       "3        23.0 kmpl\n",
       "4        16.1 kmpl\n",
       "           ...    \n",
       "8123     18.5 kmpl\n",
       "8124     16.8 kmpl\n",
       "8125     19.3 kmpl\n",
       "8126    23.57 kmpl\n",
       "8127    23.57 kmpl\n",
       "Name: mileage, Length: 8128, dtype: object"
      ]
     },
     "execution_count": 13,
     "metadata": {},
     "output_type": "execute_result"
    }
   ],
   "source": [
    "df['mileage']                      # checking mileage columns"
   ]
  },
  {
   "cell_type": "code",
   "execution_count": 14,
   "id": "99c04dc6",
   "metadata": {},
   "outputs": [],
   "source": [
    "df[['mileage']] = df[['mileage']].replace(to_replace=r'([a-z]+|[A-Z/]+)', value='', regex=True)\n"
   ]
  },
  {
   "cell_type": "code",
   "execution_count": 15,
   "id": "44d16640",
   "metadata": {},
   "outputs": [
    {
     "data": {
      "text/plain": [
       "array(['23.4 ', '21.14 ', '17.7 ', '23.0 ', '16.1 ', '20.14 ', '17.3 ',\n",
       "       '23.59 ', '20.0 ', '19.01 ', '19.3 ', nan, '18.9 ', '18.15 ',\n",
       "       '24.52 ', '19.7 ', '22.54 ', '21.0 ', '25.5 ', '26.59 ', '21.5 ',\n",
       "       '20.3 ', '21.4 ', '24.7 ', '18.2 ', '16.8 ', '24.3 ', '14.0 ',\n",
       "       '18.6 ', '33.44 ', '23.95 ', '17.0 ', '20.63 ', '13.93 ', '16.0 ',\n",
       "       '17.8 ', '18.5 ', '12.55 ', '12.99 ', '14.8 ', '13.5 ', '26.0 ',\n",
       "       '20.65 ', '27.3 ', '11.36 ', '17.68 ', '14.28 ', '18.53 ',\n",
       "       '14.84 ', '21.12 ', '20.36 ', '21.27 ', '18.16 ', '22.0 ', '25.1 ',\n",
       "       '20.51 ', '21.66 ', '25.2 ', '22.9 ', '16.02 ', '20.54 ', '22.77 ',\n",
       "       '15.71 ', '23.1 ', '19.02 ', '19.81 ', '26.2 ', '16.47 ', '15.04 ',\n",
       "       '19.1 ', '21.79 ', '18.8 ', '21.21 ', '15.37 ', '11.79 ', '19.0 ',\n",
       "       '14.3 ', '15.8 ', '15.1 ', '19.09 ', '22.32 ', '21.9 ', '14.53 ',\n",
       "       '21.63 ', '20.85 ', '20.45 ', '19.67 ', '23.01 ', '20.77 ',\n",
       "       '17.92 ', '17.01 ', '22.37 ', '19.33 ', '9.5 ', '12.83 ', '22.48 ',\n",
       "       '16.78 ', '14.67 ', '15.0 ', '13.96 ', '18.0 ', '12.07 ', '26.21 ',\n",
       "       '10.8 ', '16.3 ', '13.6 ', '14.74 ', '15.6 ', '19.56 ', '22.69 ',\n",
       "       '19.16 ', '18.12 ', '12.1 ', '17.5 ', '42.0 ', '20.4 ', '21.1 ',\n",
       "       '19.44 ', '13.0 ', '21.43 ', '22.95 ', '16.2 ', '15.3 ', '28.09 ',\n",
       "       '17.4 ', '19.4 ', '26.6 ', '17.6 ', '28.4 ', '14.1 ', '25.17 ',\n",
       "       '22.74 ', '17.57 ', '16.95 ', '19.49 ', '17.21 ', '13.2 ', '14.2 ',\n",
       "       '26.8 ', '25.4 ', '11.5 ', '27.28 ', '17.97 ', '12.8 ', '16.55 ',\n",
       "       '12.05 ', '14.07 ', '21.02 ', '11.57 ', '17.9 ', '15.96 ', '17.1 ',\n",
       "       '17.19 ', '21.01 ', '24.0 ', '25.6 ', '21.38 ', '23.84 ', '23.08 ',\n",
       "       '14.24 ', '20.71 ', '15.64 ', '14.5 ', '16.34 ', '27.39 ', '11.1 ',\n",
       "       '13.9 ', '20.88 ', '20.92 ', '23.8 ', '24.4 ', '15.29 ', '21.19 ',\n",
       "       '22.5 ', '19.6 ', '23.65 ', '25.32 ', '23.5 ', '16.6 ', '23.9 ',\n",
       "       '20.8 ', '27.62 ', '12.9 ', '25.44 ', '17.88 ', '22.7 ', '17.2 ',\n",
       "       '15.42 ', '19.68 ', '18.7 ', '15.4 ', '19.34 ', '22.71 ', '25.8 ',\n",
       "       '13.7 ', '12.2 ', '18.49 ', '9.0 ', '0.0 ', '13.58 ', '10.1 ',\n",
       "       '20.5 ', '25.0 ', '10.5 ', '22.07 ', '22.3 ', '15.26 ', '20.62 ',\n",
       "       '27.4 ', '23.2 ', '14.4 ', '18.4 ', '30.46 ', '14.02 ', '11.0 ',\n",
       "       '20.6 ', '22.05 ', '20.2 ', '18.1 ', '22.1 ', '19.87 ', '13.01 ',\n",
       "       '18.06 ', '26.1 ', '16.52 ', '13.55 ', '24.2 ', '25.83 ', '11.2 ',\n",
       "       '17.09 ', '21.03 ', '17.45 ', '21.64 ', '21.94 ', '13.87 ',\n",
       "       '19.98 ', '20.52 ', '23.57 ', '11.7 ', '17.43 ', '18.88 ',\n",
       "       '13.68 ', '11.18 ', '20.89 ', '11.8 ', '19.62 ', '21.7 ', '14.9 ',\n",
       "       '19.5 ', '10.91 ', '15.7 ', '20.73 ', '15.85 ', '20.7 ', '14.23 ',\n",
       "       '16.5 ', '17.36 ', '12.6 ', '16.36 ', '14.95 ', '16.9 ', '19.2 ',\n",
       "       '16.96 ', '22.15 ', '18.78 ', '19.61 ', '17.71 ', '18.3 ',\n",
       "       '19.12 ', '19.72 ', '12.0 ', '11.4 ', '23.03 ', '11.07 ', '15.9 ',\n",
       "       '17.67 ', '20.46 ', '13.1 ', '13.45 ', '24.8 ', '15.73 ', '15.11 ',\n",
       "       '12.7 ', '21.2 ', '20.38 ', '21.56 ', '13.22 ', '14.49 ', '15.05 ',\n",
       "       '23.26 ', '15.41 ', '13.8 ', '22.27 ', '32.52 ', '14.66 ',\n",
       "       '12.12 ', '16.84 ', '14.09 ', '14.7 ', '13.4 ', '15.5 ', '13.49 ',\n",
       "       '11.88 ', '14.6 ', '10.75 ', '24.5 ', '11.74 ', '16.07 ', '15.63 ',\n",
       "       '26.3 ', '23.7 ', '25.47 ', '17.05 ', '23.3 ', '11.9 ', '13.38 ',\n",
       "       '20.86 ', '10.9 ', '18.25 ', '15.2 ', '20.37 ', '21.8 ', '11.96 ',\n",
       "       '24.04 ', '19.69 ', '13.73 ', '21.04 ', '25.01 ', '10.93 ',\n",
       "       '24.29 ', '13.44 ', '20.07 ', '19.08 ', '20.34 ', '11.68 ',\n",
       "       '12.5 ', '12.3 ', '23.87 ', '16.38 ', '17.42 ', '10.0 ', '18.24 ',\n",
       "       '10.71 ', '19.59 ', '16.7 ', '19.83 ', '21.76 ', '16.05 ',\n",
       "       '20.28 ', '16.25 ', '16.73 ', '18.48 ', '14.99 ', '18.76 ',\n",
       "       '16.4 ', '19.64 ', '14.94 ', '17.11 ', '22.8 ', '32.26 ', '33.0 ',\n",
       "       '12.4 ', '18.44 ', '16.09 ', '12.62 ', '21.13 ', '15.17 ',\n",
       "       '21.73 ', '21.72 ', '12.85 ', '14.81 ', '13.24 ', '21.49 ',\n",
       "       '14.62 ', '26.83 ', '11.45 ', '12.08 ', '15.74 ', '11.3 ',\n",
       "       '14.21 ', '11.72 ', '16.51 '], dtype=object)"
      ]
     },
     "execution_count": 15,
     "metadata": {},
     "output_type": "execute_result"
    }
   ],
   "source": [
    "df[\"mileage\"].unique()"
   ]
  },
  {
   "cell_type": "code",
   "execution_count": 16,
   "id": "089cf99b",
   "metadata": {},
   "outputs": [
    {
     "data": {
      "text/html": [
       "<div>\n",
       "<style scoped>\n",
       "    .dataframe tbody tr th:only-of-type {\n",
       "        vertical-align: middle;\n",
       "    }\n",
       "\n",
       "    .dataframe tbody tr th {\n",
       "        vertical-align: top;\n",
       "    }\n",
       "\n",
       "    .dataframe thead th {\n",
       "        text-align: right;\n",
       "    }\n",
       "</style>\n",
       "<table border=\"1\" class=\"dataframe\">\n",
       "  <thead>\n",
       "    <tr style=\"text-align: right;\">\n",
       "      <th></th>\n",
       "      <th>name</th>\n",
       "      <th>year</th>\n",
       "      <th>selling_price</th>\n",
       "      <th>km_driven</th>\n",
       "      <th>fuel</th>\n",
       "      <th>seller_type</th>\n",
       "      <th>transmission</th>\n",
       "      <th>owner</th>\n",
       "      <th>mileage</th>\n",
       "      <th>engine</th>\n",
       "      <th>max_power</th>\n",
       "      <th>torque</th>\n",
       "      <th>seats</th>\n",
       "    </tr>\n",
       "  </thead>\n",
       "  <tbody>\n",
       "    <tr>\n",
       "      <th>0</th>\n",
       "      <td>Maruti Swift Dzire VDI</td>\n",
       "      <td>2014</td>\n",
       "      <td>450000</td>\n",
       "      <td>145500</td>\n",
       "      <td>Diesel</td>\n",
       "      <td>Individual</td>\n",
       "      <td>Manual</td>\n",
       "      <td>First Owner</td>\n",
       "      <td>23.4</td>\n",
       "      <td>1248 CC</td>\n",
       "      <td>74 bhp</td>\n",
       "      <td>190Nm@ 2000rpm</td>\n",
       "      <td>5.0</td>\n",
       "    </tr>\n",
       "    <tr>\n",
       "      <th>1</th>\n",
       "      <td>Skoda Rapid 1.5 TDI Ambition</td>\n",
       "      <td>2014</td>\n",
       "      <td>370000</td>\n",
       "      <td>120000</td>\n",
       "      <td>Diesel</td>\n",
       "      <td>Individual</td>\n",
       "      <td>Manual</td>\n",
       "      <td>Second Owner</td>\n",
       "      <td>21.14</td>\n",
       "      <td>1498 CC</td>\n",
       "      <td>103.52 bhp</td>\n",
       "      <td>250Nm@ 1500-2500rpm</td>\n",
       "      <td>5.0</td>\n",
       "    </tr>\n",
       "    <tr>\n",
       "      <th>2</th>\n",
       "      <td>Honda City 2017-2020 EXi</td>\n",
       "      <td>2006</td>\n",
       "      <td>158000</td>\n",
       "      <td>140000</td>\n",
       "      <td>Petrol</td>\n",
       "      <td>Individual</td>\n",
       "      <td>Manual</td>\n",
       "      <td>Third Owner</td>\n",
       "      <td>17.7</td>\n",
       "      <td>1497 CC</td>\n",
       "      <td>78 bhp</td>\n",
       "      <td>12.7@ 2,700(kgm@ rpm)</td>\n",
       "      <td>5.0</td>\n",
       "    </tr>\n",
       "    <tr>\n",
       "      <th>3</th>\n",
       "      <td>Hyundai i20 Sportz Diesel</td>\n",
       "      <td>2010</td>\n",
       "      <td>225000</td>\n",
       "      <td>127000</td>\n",
       "      <td>Diesel</td>\n",
       "      <td>Individual</td>\n",
       "      <td>Manual</td>\n",
       "      <td>First Owner</td>\n",
       "      <td>23.0</td>\n",
       "      <td>1396 CC</td>\n",
       "      <td>90 bhp</td>\n",
       "      <td>22.4 kgm at 1750-2750rpm</td>\n",
       "      <td>5.0</td>\n",
       "    </tr>\n",
       "    <tr>\n",
       "      <th>4</th>\n",
       "      <td>Maruti Swift VXI BSIII</td>\n",
       "      <td>2007</td>\n",
       "      <td>130000</td>\n",
       "      <td>120000</td>\n",
       "      <td>Petrol</td>\n",
       "      <td>Individual</td>\n",
       "      <td>Manual</td>\n",
       "      <td>First Owner</td>\n",
       "      <td>16.1</td>\n",
       "      <td>1298 CC</td>\n",
       "      <td>88.2 bhp</td>\n",
       "      <td>11.5@ 4,500(kgm@ rpm)</td>\n",
       "      <td>5.0</td>\n",
       "    </tr>\n",
       "    <tr>\n",
       "      <th>...</th>\n",
       "      <td>...</td>\n",
       "      <td>...</td>\n",
       "      <td>...</td>\n",
       "      <td>...</td>\n",
       "      <td>...</td>\n",
       "      <td>...</td>\n",
       "      <td>...</td>\n",
       "      <td>...</td>\n",
       "      <td>...</td>\n",
       "      <td>...</td>\n",
       "      <td>...</td>\n",
       "      <td>...</td>\n",
       "      <td>...</td>\n",
       "    </tr>\n",
       "    <tr>\n",
       "      <th>8123</th>\n",
       "      <td>Hyundai i20 Magna</td>\n",
       "      <td>2013</td>\n",
       "      <td>320000</td>\n",
       "      <td>110000</td>\n",
       "      <td>Petrol</td>\n",
       "      <td>Individual</td>\n",
       "      <td>Manual</td>\n",
       "      <td>First Owner</td>\n",
       "      <td>18.5</td>\n",
       "      <td>1197 CC</td>\n",
       "      <td>82.85 bhp</td>\n",
       "      <td>113.7Nm@ 4000rpm</td>\n",
       "      <td>5.0</td>\n",
       "    </tr>\n",
       "    <tr>\n",
       "      <th>8124</th>\n",
       "      <td>Hyundai Verna CRDi SX</td>\n",
       "      <td>2007</td>\n",
       "      <td>135000</td>\n",
       "      <td>119000</td>\n",
       "      <td>Diesel</td>\n",
       "      <td>Individual</td>\n",
       "      <td>Manual</td>\n",
       "      <td>Fourth &amp; Above Owner</td>\n",
       "      <td>16.8</td>\n",
       "      <td>1493 CC</td>\n",
       "      <td>110 bhp</td>\n",
       "      <td>24@ 1,900-2,750(kgm@ rpm)</td>\n",
       "      <td>5.0</td>\n",
       "    </tr>\n",
       "    <tr>\n",
       "      <th>8125</th>\n",
       "      <td>Maruti Swift Dzire ZDi</td>\n",
       "      <td>2009</td>\n",
       "      <td>382000</td>\n",
       "      <td>120000</td>\n",
       "      <td>Diesel</td>\n",
       "      <td>Individual</td>\n",
       "      <td>Manual</td>\n",
       "      <td>First Owner</td>\n",
       "      <td>19.3</td>\n",
       "      <td>1248 CC</td>\n",
       "      <td>73.9 bhp</td>\n",
       "      <td>190Nm@ 2000rpm</td>\n",
       "      <td>5.0</td>\n",
       "    </tr>\n",
       "    <tr>\n",
       "      <th>8126</th>\n",
       "      <td>Tata Indigo CR4</td>\n",
       "      <td>2013</td>\n",
       "      <td>290000</td>\n",
       "      <td>25000</td>\n",
       "      <td>Diesel</td>\n",
       "      <td>Individual</td>\n",
       "      <td>Manual</td>\n",
       "      <td>First Owner</td>\n",
       "      <td>23.57</td>\n",
       "      <td>1396 CC</td>\n",
       "      <td>70 bhp</td>\n",
       "      <td>140Nm@ 1800-3000rpm</td>\n",
       "      <td>5.0</td>\n",
       "    </tr>\n",
       "    <tr>\n",
       "      <th>8127</th>\n",
       "      <td>Tata Indigo CR4</td>\n",
       "      <td>2013</td>\n",
       "      <td>290000</td>\n",
       "      <td>25000</td>\n",
       "      <td>Diesel</td>\n",
       "      <td>Individual</td>\n",
       "      <td>Manual</td>\n",
       "      <td>First Owner</td>\n",
       "      <td>23.57</td>\n",
       "      <td>1396 CC</td>\n",
       "      <td>70 bhp</td>\n",
       "      <td>140Nm@ 1800-3000rpm</td>\n",
       "      <td>5.0</td>\n",
       "    </tr>\n",
       "  </tbody>\n",
       "</table>\n",
       "<p>8128 rows × 13 columns</p>\n",
       "</div>"
      ],
      "text/plain": [
       "                              name  year  selling_price  km_driven    fuel  \\\n",
       "0           Maruti Swift Dzire VDI  2014         450000     145500  Diesel   \n",
       "1     Skoda Rapid 1.5 TDI Ambition  2014         370000     120000  Diesel   \n",
       "2         Honda City 2017-2020 EXi  2006         158000     140000  Petrol   \n",
       "3        Hyundai i20 Sportz Diesel  2010         225000     127000  Diesel   \n",
       "4           Maruti Swift VXI BSIII  2007         130000     120000  Petrol   \n",
       "...                            ...   ...            ...        ...     ...   \n",
       "8123             Hyundai i20 Magna  2013         320000     110000  Petrol   \n",
       "8124         Hyundai Verna CRDi SX  2007         135000     119000  Diesel   \n",
       "8125        Maruti Swift Dzire ZDi  2009         382000     120000  Diesel   \n",
       "8126               Tata Indigo CR4  2013         290000      25000  Diesel   \n",
       "8127               Tata Indigo CR4  2013         290000      25000  Diesel   \n",
       "\n",
       "     seller_type transmission                 owner mileage   engine  \\\n",
       "0     Individual       Manual           First Owner   23.4   1248 CC   \n",
       "1     Individual       Manual          Second Owner  21.14   1498 CC   \n",
       "2     Individual       Manual           Third Owner   17.7   1497 CC   \n",
       "3     Individual       Manual           First Owner   23.0   1396 CC   \n",
       "4     Individual       Manual           First Owner   16.1   1298 CC   \n",
       "...          ...          ...                   ...     ...      ...   \n",
       "8123  Individual       Manual           First Owner   18.5   1197 CC   \n",
       "8124  Individual       Manual  Fourth & Above Owner   16.8   1493 CC   \n",
       "8125  Individual       Manual           First Owner   19.3   1248 CC   \n",
       "8126  Individual       Manual           First Owner  23.57   1396 CC   \n",
       "8127  Individual       Manual           First Owner  23.57   1396 CC   \n",
       "\n",
       "       max_power                     torque  seats  \n",
       "0         74 bhp             190Nm@ 2000rpm    5.0  \n",
       "1     103.52 bhp        250Nm@ 1500-2500rpm    5.0  \n",
       "2         78 bhp      12.7@ 2,700(kgm@ rpm)    5.0  \n",
       "3         90 bhp   22.4 kgm at 1750-2750rpm    5.0  \n",
       "4       88.2 bhp      11.5@ 4,500(kgm@ rpm)    5.0  \n",
       "...          ...                        ...    ...  \n",
       "8123   82.85 bhp           113.7Nm@ 4000rpm    5.0  \n",
       "8124     110 bhp  24@ 1,900-2,750(kgm@ rpm)    5.0  \n",
       "8125    73.9 bhp             190Nm@ 2000rpm    5.0  \n",
       "8126      70 bhp        140Nm@ 1800-3000rpm    5.0  \n",
       "8127      70 bhp        140Nm@ 1800-3000rpm    5.0  \n",
       "\n",
       "[8128 rows x 13 columns]"
      ]
     },
     "execution_count": 16,
     "metadata": {},
     "output_type": "execute_result"
    }
   ],
   "source": [
    "df"
   ]
  },
  {
   "cell_type": "markdown",
   "id": "9e3ccdf1",
   "metadata": {},
   "source": [
    "# NOW CHANGE MILEAGE DATA TYPE TO NUMERIC FROM OBJECT"
   ]
  },
  {
   "cell_type": "code",
   "execution_count": 17,
   "id": "8548f6e1",
   "metadata": {},
   "outputs": [],
   "source": [
    "df[\"mileage\"]=pd.to_numeric(df[\"mileage\"])"
   ]
  },
  {
   "cell_type": "code",
   "execution_count": 18,
   "id": "076856e6",
   "metadata": {},
   "outputs": [
    {
     "data": {
      "text/plain": [
       "dtype('float64')"
      ]
     },
     "execution_count": 18,
     "metadata": {},
     "output_type": "execute_result"
    }
   ],
   "source": [
    "df[\"mileage\"].dtype"
   ]
  },
  {
   "cell_type": "markdown",
   "id": "4308b105",
   "metadata": {},
   "source": [
    "# Now cleaning engine column using str.replace method"
   ]
  },
  {
   "cell_type": "code",
   "execution_count": 19,
   "id": "9015ec04",
   "metadata": {},
   "outputs": [],
   "source": [
    "df[\"engine\"]=df[\"engine\"].str.replace(\"CC\",\"\")"
   ]
  },
  {
   "cell_type": "code",
   "execution_count": 20,
   "id": "e204fc7f",
   "metadata": {},
   "outputs": [],
   "source": [
    "df[\"engine\"]=pd.to_numeric(df[\"engine\"])"
   ]
  },
  {
   "cell_type": "code",
   "execution_count": 21,
   "id": "18f3e2fc",
   "metadata": {},
   "outputs": [
    {
     "data": {
      "text/plain": [
       "dtype('float64')"
      ]
     },
     "execution_count": 21,
     "metadata": {},
     "output_type": "execute_result"
    }
   ],
   "source": [
    "df[\"engine\"].dtype"
   ]
  },
  {
   "cell_type": "markdown",
   "id": "1b92d4c5",
   "metadata": {},
   "source": [
    "# Now cleaning max_power column"
   ]
  },
  {
   "cell_type": "code",
   "execution_count": 22,
   "id": "049bf530",
   "metadata": {},
   "outputs": [],
   "source": [
    "df[\"max_power\"]=df[\"max_power\"].str.replace(\"bhp\",\"\")"
   ]
  },
  {
   "cell_type": "code",
   "execution_count": 23,
   "id": "a575b615",
   "metadata": {
    "scrolled": true
   },
   "outputs": [
    {
     "ename": "ValueError",
     "evalue": "Unable to parse string \" \" at position 4933",
     "output_type": "error",
     "traceback": [
      "\u001b[1;31m---------------------------------------------------------------------------\u001b[0m",
      "\u001b[1;31mValueError\u001b[0m                                Traceback (most recent call last)",
      "File \u001b[1;32m~\\AppData\\Local\\Programs\\Python\\Python310\\lib\\site-packages\\pandas\\_libs\\lib.pyx:2315\u001b[0m, in \u001b[0;36mpandas._libs.lib.maybe_convert_numeric\u001b[1;34m()\u001b[0m\n",
      "\u001b[1;31mValueError\u001b[0m: Unable to parse string \" \"",
      "\nDuring handling of the above exception, another exception occurred:\n",
      "\u001b[1;31mValueError\u001b[0m                                Traceback (most recent call last)",
      "Input \u001b[1;32mIn [23]\u001b[0m, in \u001b[0;36m<module>\u001b[1;34m\u001b[0m\n\u001b[1;32m----> 1\u001b[0m df[\u001b[38;5;124m\"\u001b[39m\u001b[38;5;124mmax_power\u001b[39m\u001b[38;5;124m\"\u001b[39m]\u001b[38;5;241m=\u001b[39m\u001b[43mpd\u001b[49m\u001b[38;5;241;43m.\u001b[39;49m\u001b[43mto_numeric\u001b[49m\u001b[43m(\u001b[49m\u001b[43mdf\u001b[49m\u001b[43m[\u001b[49m\u001b[38;5;124;43m\"\u001b[39;49m\u001b[38;5;124;43mmax_power\u001b[39;49m\u001b[38;5;124;43m\"\u001b[39;49m\u001b[43m]\u001b[49m\u001b[43m)\u001b[49m\n",
      "File \u001b[1;32m~\\AppData\\Local\\Programs\\Python\\Python310\\lib\\site-packages\\pandas\\core\\tools\\numeric.py:184\u001b[0m, in \u001b[0;36mto_numeric\u001b[1;34m(arg, errors, downcast)\u001b[0m\n\u001b[0;32m    182\u001b[0m coerce_numeric \u001b[38;5;241m=\u001b[39m errors \u001b[38;5;129;01mnot\u001b[39;00m \u001b[38;5;129;01min\u001b[39;00m (\u001b[38;5;124m\"\u001b[39m\u001b[38;5;124mignore\u001b[39m\u001b[38;5;124m\"\u001b[39m, \u001b[38;5;124m\"\u001b[39m\u001b[38;5;124mraise\u001b[39m\u001b[38;5;124m\"\u001b[39m)\n\u001b[0;32m    183\u001b[0m \u001b[38;5;28;01mtry\u001b[39;00m:\n\u001b[1;32m--> 184\u001b[0m     values, _ \u001b[38;5;241m=\u001b[39m \u001b[43mlib\u001b[49m\u001b[38;5;241;43m.\u001b[39;49m\u001b[43mmaybe_convert_numeric\u001b[49m\u001b[43m(\u001b[49m\n\u001b[0;32m    185\u001b[0m \u001b[43m        \u001b[49m\u001b[43mvalues\u001b[49m\u001b[43m,\u001b[49m\u001b[43m \u001b[49m\u001b[38;5;28;43mset\u001b[39;49m\u001b[43m(\u001b[49m\u001b[43m)\u001b[49m\u001b[43m,\u001b[49m\u001b[43m \u001b[49m\u001b[43mcoerce_numeric\u001b[49m\u001b[38;5;241;43m=\u001b[39;49m\u001b[43mcoerce_numeric\u001b[49m\n\u001b[0;32m    186\u001b[0m \u001b[43m    \u001b[49m\u001b[43m)\u001b[49m\n\u001b[0;32m    187\u001b[0m \u001b[38;5;28;01mexcept\u001b[39;00m (\u001b[38;5;167;01mValueError\u001b[39;00m, \u001b[38;5;167;01mTypeError\u001b[39;00m):\n\u001b[0;32m    188\u001b[0m     \u001b[38;5;28;01mif\u001b[39;00m errors \u001b[38;5;241m==\u001b[39m \u001b[38;5;124m\"\u001b[39m\u001b[38;5;124mraise\u001b[39m\u001b[38;5;124m\"\u001b[39m:\n",
      "File \u001b[1;32m~\\AppData\\Local\\Programs\\Python\\Python310\\lib\\site-packages\\pandas\\_libs\\lib.pyx:2357\u001b[0m, in \u001b[0;36mpandas._libs.lib.maybe_convert_numeric\u001b[1;34m()\u001b[0m\n",
      "\u001b[1;31mValueError\u001b[0m: Unable to parse string \" \" at position 4933"
     ]
    }
   ],
   "source": [
    "df[\"max_power\"]=pd.to_numeric(df[\"max_power\"])"
   ]
  },
  {
   "cell_type": "code",
   "execution_count": 25,
   "id": "c16747f7",
   "metadata": {},
   "outputs": [],
   "source": [
    "# by above error we know that there is a empty string in column \n",
    "df[\"max_power\"]=df[\"max_power\"].str.replace(\" \",\"\")"
   ]
  },
  {
   "cell_type": "code",
   "execution_count": 27,
   "id": "8630848b",
   "metadata": {},
   "outputs": [],
   "source": [
    "df[\"max_power\"]=pd.to_numeric(df[\"max_power\"])"
   ]
  },
  {
   "cell_type": "code",
   "execution_count": 28,
   "id": "25cc7afa",
   "metadata": {},
   "outputs": [
    {
     "data": {
      "text/plain": [
       "dtype('float64')"
      ]
     },
     "execution_count": 28,
     "metadata": {},
     "output_type": "execute_result"
    }
   ],
   "source": [
    "df[\"max_power\"].dtype"
   ]
  },
  {
   "cell_type": "markdown",
   "id": "ece8ceb9",
   "metadata": {},
   "source": [
    "# Cleaning torque column"
   ]
  },
  {
   "cell_type": "code",
   "execution_count": 84,
   "id": "67bb4e74",
   "metadata": {},
   "outputs": [
    {
     "data": {
      "text/plain": [
       "0               1902000\n",
       "1          2501500-2500\n",
       "2            1272,700()\n",
       "3          2241750-2750\n",
       "4            1154,500()\n",
       "             ...       \n",
       "8123           11374000\n",
       "8124    241,900-2,750()\n",
       "8125            1902000\n",
       "8126       1401800-3000\n",
       "8127       1401800-3000\n",
       "Name: torque, Length: 8128, dtype: object"
      ]
     },
     "execution_count": 84,
     "metadata": {},
     "output_type": "execute_result"
    }
   ],
   "source": [
    "df[\"torque\"]"
   ]
  },
  {
   "cell_type": "code",
   "execution_count": 85,
   "id": "7ffc9783",
   "metadata": {},
   "outputs": [],
   "source": [
    "df[\"torque\"]=df[\"torque\"].str.replace(\"@\",\"\")"
   ]
  },
  {
   "cell_type": "code",
   "execution_count": 101,
   "id": "3910555a",
   "metadata": {},
   "outputs": [
    {
     "name": "stderr",
     "output_type": "stream",
     "text": [
      "C:\\Users\\sande\\AppData\\Local\\Temp\\ipykernel_12512\\222968536.py:1: FutureWarning: The default value of regex will change from True to False in a future version. In addition, single character regular expressions will *not* be treated as literal strings when regex=True.\n",
      "  df[\"torque\"] = df[\"torque\"].str.replace(\"@\",\"\").str.replace(\".\",\"\").str.replace(\"N\",\"\").str.replace(\"n\",\"\").str.replace(\",\",\"\")\n"
     ]
    }
   ],
   "source": [
    "df[\"torque\"] = df[\"torque\"].str.replace(\"@\",\"\").str.replace(\".\",\"\").str.replace(\"N\",\"\").str.replace(\"n\",\"\").str.replace(\",\",\"\")"
   ]
  },
  {
   "cell_type": "code",
   "execution_count": 102,
   "id": "344d6a63",
   "metadata": {},
   "outputs": [
    {
     "data": {
      "text/plain": [
       "0       190\n",
       "1       250\n",
       "2       127\n",
       "3       224\n",
       "4       115\n",
       "       ... \n",
       "8123    113\n",
       "8124    241\n",
       "8125    190\n",
       "8126    140\n",
       "8127    140\n",
       "Name: torque, Length: 8128, dtype: object"
      ]
     },
     "execution_count": 102,
     "metadata": {},
     "output_type": "execute_result"
    }
   ],
   "source": [
    "df[\"torque\"]"
   ]
  },
  {
   "cell_type": "code",
   "execution_count": 103,
   "id": "40f9d051",
   "metadata": {},
   "outputs": [],
   "source": [
    "df[\"torque\"]=df[\"torque\"].str[0:3]"
   ]
  },
  {
   "cell_type": "code",
   "execution_count": 104,
   "id": "aea6001a",
   "metadata": {},
   "outputs": [
    {
     "data": {
      "text/plain": [
       "0       190\n",
       "1       250\n",
       "2       127\n",
       "3       224\n",
       "4       115\n",
       "       ... \n",
       "8123    113\n",
       "8124    241\n",
       "8125    190\n",
       "8126    140\n",
       "8127    140\n",
       "Name: torque, Length: 8128, dtype: object"
      ]
     },
     "execution_count": 104,
     "metadata": {},
     "output_type": "execute_result"
    }
   ],
   "source": [
    "df[\"torque\"]"
   ]
  },
  {
   "cell_type": "code",
   "execution_count": 105,
   "id": "98271aa5",
   "metadata": {},
   "outputs": [],
   "source": [
    "df[\"torque\"]=pd.to_numeric(df[\"torque\"])"
   ]
  },
  {
   "cell_type": "code",
   "execution_count": 106,
   "id": "6eac204b",
   "metadata": {},
   "outputs": [
    {
     "data": {
      "text/plain": [
       "array([190., 250., 127., 224., 115., 113., 784., 592., 170., 160., 248.,\n",
       "        nan, 843., 200., 623., 219., 114., 693., 172., 613., 603., 903.,\n",
       "       151., 104., 320., 145., 146., 343., 400., 138., 360., 380., 173.,\n",
       "       111., 112., 130., 205., 280., 990., 773., 110., 153., 101., 290.,\n",
       "       120., 963., 135., 259., 914., 961., 109., 202., 430., 347., 382.,\n",
       "       620., 500., 550., 490., 177., 300., 260., 213., 640., 953., 131.,\n",
       "       713., 149., 117., 724., 140., 134., 150., 340., 240., 330., 125.,\n",
       "       118., 204., 247., 223., 180., 195., 154., 108., 420., 100., 514.,\n",
       "       132., 350., 218., 241., 853., 745., 230., 245., 143., 102., 852.,\n",
       "       106., 144., 994., 142., 196., 983., 209., 220., 483., 171., 277.,\n",
       "       215., 263., 255., 163., 941., 123., 162., 789., 436., 182., 305.,\n",
       "       540., 327., 450., 191., 924., 148., 116., 222., 981., 402., 210.,\n",
       "       321., 251., 197., 136., 470., 510., 292., 203., 465., 228., 187.,\n",
       "       863., 422., 225., 283., 580., 107., 124., 783., 424., 998., 161.,\n",
       "       619., 560., 902., 600., 166., 337., 285., 226., 155., 103., 175.,\n",
       "       729., 572., 962., 128., 185., 122., 176., 229., 121., 214., 236.,\n",
       "       357.,  62., 139., 622., 181., 833., 884., 366., 355., 511., 119.,\n",
       "       410., 174., 991., 385., 532., 159., 333., 332., 480.])"
      ]
     },
     "execution_count": 106,
     "metadata": {},
     "output_type": "execute_result"
    }
   ],
   "source": [
    "df[\"torque\"].unique()"
   ]
  },
  {
   "cell_type": "code",
   "execution_count": 107,
   "id": "9149732a",
   "metadata": {},
   "outputs": [
    {
     "name": "stdout",
     "output_type": "stream",
     "text": [
      "<class 'pandas.core.frame.DataFrame'>\n",
      "RangeIndex: 8128 entries, 0 to 8127\n",
      "Data columns (total 13 columns):\n",
      " #   Column         Non-Null Count  Dtype  \n",
      "---  ------         --------------  -----  \n",
      " 0   name           8128 non-null   object \n",
      " 1   year           8128 non-null   int64  \n",
      " 2   selling_price  8128 non-null   int64  \n",
      " 3   km_driven      8128 non-null   int64  \n",
      " 4   fuel           8128 non-null   object \n",
      " 5   seller_type    8128 non-null   object \n",
      " 6   transmission   8128 non-null   object \n",
      " 7   owner          8128 non-null   object \n",
      " 8   mileage        7907 non-null   float64\n",
      " 9   engine         7907 non-null   float64\n",
      " 10  max_power      7912 non-null   float64\n",
      " 11  torque         7906 non-null   float64\n",
      " 12  seats          7907 non-null   float64\n",
      "dtypes: float64(5), int64(3), object(5)\n",
      "memory usage: 825.6+ KB\n"
     ]
    }
   ],
   "source": [
    "df.info()"
   ]
  },
  {
   "cell_type": "markdown",
   "id": "f5c559ec",
   "metadata": {},
   "source": [
    "# NOW OUR ALL COLUMNS ARE CLEAN NOW WE CAN FILL MISSING VALUES"
   ]
  },
  {
   "cell_type": "code",
   "execution_count": 113,
   "id": "2068ec7a",
   "metadata": {
    "scrolled": true
   },
   "outputs": [],
   "source": [
    "df[\"mileage\"].fillna(df[\"mileage\"].median(),inplace = True)\n",
    "df[\"max_power\"].fillna(df[\"max_power\"].median(),inplace = True)\n",
    "df[\"engine\"].fillna(df[\"engine\"].median(),inplace = True)\n",
    "df[\"torque\"].fillna(df[\"torque\"].median(),inplace = True)\n",
    "df[\"seats\"].fillna(df[\"seats\"].median(),inplace = True)"
   ]
  },
  {
   "cell_type": "code",
   "execution_count": 110,
   "id": "49446ba9",
   "metadata": {},
   "outputs": [],
   "source": [
    "# now checking is there any ,missing values"
   ]
  },
  {
   "cell_type": "code",
   "execution_count": 114,
   "id": "d5d31e48",
   "metadata": {},
   "outputs": [
    {
     "data": {
      "text/plain": [
       "name             0\n",
       "year             0\n",
       "selling_price    0\n",
       "km_driven        0\n",
       "fuel             0\n",
       "seller_type      0\n",
       "transmission     0\n",
       "owner            0\n",
       "mileage          0\n",
       "engine           0\n",
       "max_power        0\n",
       "torque           0\n",
       "seats            0\n",
       "dtype: int64"
      ]
     },
     "execution_count": 114,
     "metadata": {},
     "output_type": "execute_result"
    }
   ],
   "source": [
    "df.isna().sum()"
   ]
  },
  {
   "cell_type": "markdown",
   "id": "76e0a5a7",
   "metadata": {},
   "source": [
    "# EXPLORATORY DATA ANALYSIS"
   ]
  },
  {
   "cell_type": "code",
   "execution_count": 115,
   "id": "9b608133",
   "metadata": {},
   "outputs": [],
   "source": [
    "# STAISTICAL ANALYSIS ON DATA"
   ]
  },
  {
   "cell_type": "code",
   "execution_count": 116,
   "id": "19048ecb",
   "metadata": {},
   "outputs": [
    {
     "data": {
      "text/html": [
       "<div>\n",
       "<style scoped>\n",
       "    .dataframe tbody tr th:only-of-type {\n",
       "        vertical-align: middle;\n",
       "    }\n",
       "\n",
       "    .dataframe tbody tr th {\n",
       "        vertical-align: top;\n",
       "    }\n",
       "\n",
       "    .dataframe thead th {\n",
       "        text-align: right;\n",
       "    }\n",
       "</style>\n",
       "<table border=\"1\" class=\"dataframe\">\n",
       "  <thead>\n",
       "    <tr style=\"text-align: right;\">\n",
       "      <th></th>\n",
       "      <th>count</th>\n",
       "      <th>mean</th>\n",
       "      <th>std</th>\n",
       "      <th>min</th>\n",
       "      <th>25%</th>\n",
       "      <th>50%</th>\n",
       "      <th>75%</th>\n",
       "      <th>max</th>\n",
       "    </tr>\n",
       "  </thead>\n",
       "  <tbody>\n",
       "    <tr>\n",
       "      <th>year</th>\n",
       "      <td>8128.0</td>\n",
       "      <td>2013.804011</td>\n",
       "      <td>4.044249</td>\n",
       "      <td>1983.0</td>\n",
       "      <td>2011.0</td>\n",
       "      <td>2015.0</td>\n",
       "      <td>2017.0000</td>\n",
       "      <td>2020.0</td>\n",
       "    </tr>\n",
       "    <tr>\n",
       "      <th>selling_price</th>\n",
       "      <td>8128.0</td>\n",
       "      <td>638271.807702</td>\n",
       "      <td>806253.403508</td>\n",
       "      <td>29999.0</td>\n",
       "      <td>254999.0</td>\n",
       "      <td>450000.0</td>\n",
       "      <td>675000.0000</td>\n",
       "      <td>10000000.0</td>\n",
       "    </tr>\n",
       "    <tr>\n",
       "      <th>km_driven</th>\n",
       "      <td>8128.0</td>\n",
       "      <td>69819.510827</td>\n",
       "      <td>56550.554958</td>\n",
       "      <td>1.0</td>\n",
       "      <td>35000.0</td>\n",
       "      <td>60000.0</td>\n",
       "      <td>98000.0000</td>\n",
       "      <td>2360457.0</td>\n",
       "    </tr>\n",
       "    <tr>\n",
       "      <th>mileage</th>\n",
       "      <td>8128.0</td>\n",
       "      <td>19.415554</td>\n",
       "      <td>3.981922</td>\n",
       "      <td>0.0</td>\n",
       "      <td>16.8</td>\n",
       "      <td>19.3</td>\n",
       "      <td>22.2775</td>\n",
       "      <td>42.0</td>\n",
       "    </tr>\n",
       "    <tr>\n",
       "      <th>engine</th>\n",
       "      <td>8128.0</td>\n",
       "      <td>1452.898130</td>\n",
       "      <td>498.196720</td>\n",
       "      <td>624.0</td>\n",
       "      <td>1197.0</td>\n",
       "      <td>1248.0</td>\n",
       "      <td>1582.0000</td>\n",
       "      <td>3604.0</td>\n",
       "    </tr>\n",
       "    <tr>\n",
       "      <th>max_power</th>\n",
       "      <td>8128.0</td>\n",
       "      <td>91.264982</td>\n",
       "      <td>35.376388</td>\n",
       "      <td>0.0</td>\n",
       "      <td>68.1</td>\n",
       "      <td>82.0</td>\n",
       "      <td>101.2500</td>\n",
       "      <td>400.0</td>\n",
       "    </tr>\n",
       "    <tr>\n",
       "      <th>torque</th>\n",
       "      <td>8128.0</td>\n",
       "      <td>311.830340</td>\n",
       "      <td>251.236405</td>\n",
       "      <td>62.0</td>\n",
       "      <td>146.0</td>\n",
       "      <td>200.0</td>\n",
       "      <td>343.0000</td>\n",
       "      <td>998.0</td>\n",
       "    </tr>\n",
       "    <tr>\n",
       "      <th>seats</th>\n",
       "      <td>8128.0</td>\n",
       "      <td>5.405389</td>\n",
       "      <td>0.948874</td>\n",
       "      <td>2.0</td>\n",
       "      <td>5.0</td>\n",
       "      <td>5.0</td>\n",
       "      <td>5.0000</td>\n",
       "      <td>14.0</td>\n",
       "    </tr>\n",
       "  </tbody>\n",
       "</table>\n",
       "</div>"
      ],
      "text/plain": [
       "                count           mean            std      min       25%  \\\n",
       "year           8128.0    2013.804011       4.044249   1983.0    2011.0   \n",
       "selling_price  8128.0  638271.807702  806253.403508  29999.0  254999.0   \n",
       "km_driven      8128.0   69819.510827   56550.554958      1.0   35000.0   \n",
       "mileage        8128.0      19.415554       3.981922      0.0      16.8   \n",
       "engine         8128.0    1452.898130     498.196720    624.0    1197.0   \n",
       "max_power      8128.0      91.264982      35.376388      0.0      68.1   \n",
       "torque         8128.0     311.830340     251.236405     62.0     146.0   \n",
       "seats          8128.0       5.405389       0.948874      2.0       5.0   \n",
       "\n",
       "                    50%          75%         max  \n",
       "year             2015.0    2017.0000      2020.0  \n",
       "selling_price  450000.0  675000.0000  10000000.0  \n",
       "km_driven       60000.0   98000.0000   2360457.0  \n",
       "mileage            19.3      22.2775        42.0  \n",
       "engine           1248.0    1582.0000      3604.0  \n",
       "max_power          82.0     101.2500       400.0  \n",
       "torque            200.0     343.0000       998.0  \n",
       "seats               5.0       5.0000        14.0  "
      ]
     },
     "execution_count": 116,
     "metadata": {},
     "output_type": "execute_result"
    }
   ],
   "source": [
    "df.describe().T"
   ]
  },
  {
   "cell_type": "markdown",
   "id": "69ff1bb7",
   "metadata": {},
   "source": [
    "# NOW COUNTING NO OF OWNERS BY USING GRAPH"
   ]
  },
  {
   "cell_type": "code",
   "execution_count": 118,
   "id": "84bde2fe",
   "metadata": {},
   "outputs": [
    {
     "data": {
      "image/png": "[encoded data removed]",
      "text/plain": [
       "<Figure size 432x288 with 1 Axes>"
      ]
     },
     "metadata": {
      "needs_background": "light"
     },
     "output_type": "display_data"
    }
   ],
   "source": [
    "sns.countplot(x= df[\"owner\"]);\n",
    "plt.xticks(rotation=90);"
   ]
  },
  {
   "cell_type": "code",
   "execution_count": 119,
   "id": "1377e70f",
   "metadata": {},
   "outputs": [],
   "source": [
    "# finding\n",
    "# * first owner car are more as compared to others.\n",
    "# * second owner car are less than half of first owner cars"
   ]
  },
  {
   "cell_type": "code",
   "execution_count": 122,
   "id": "a0eb7b1d",
   "metadata": {},
   "outputs": [
    {
     "data": {
      "image/png": "[encoded data removed]",
      "text/plain": [
       "<Figure size 432x288 with 1 Axes>"
      ]
     },
     "metadata": {
      "needs_background": "light"
     },
     "output_type": "display_data"
    }
   ],
   "source": [
    "sns.barplot(x=\"fuel\",y=\"selling_price\",data=df);                     # FOR COMPARING SELLING PRICE VS  FUEL TYPE"
   ]
  },
  {
   "cell_type": "code",
   "execution_count": 125,
   "id": "9e1b056e",
   "metadata": {},
   "outputs": [
    {
     "data": {
      "image/png": "[encoded data removed]",
      "text/plain": [
       "<Figure size 432x288 with 1 Axes>"
      ]
     },
     "metadata": {
      "needs_background": "light"
     },
     "output_type": "display_data"
    }
   ],
   "source": [
    "sns.barplot(x=\"fuel\",y=\"selling_price\",data=df,hue=\"owner\");                   # FOR CHECKING WHICH TYPE OF OWNER CAR GET HIGH SALES PRICE "
   ]
  },
  {
   "cell_type": "code",
   "execution_count": 127,
   "id": "9c744deb",
   "metadata": {},
   "outputs": [
    {
     "data": {
      "text/plain": [
       "fuel    owner               \n",
       "CNG     First Owner             3.540293e+05\n",
       "        Fourth & Above Owner    1.895000e+05\n",
       "        Second Owner            2.330556e+05\n",
       "        Third Owner             1.823333e+05\n",
       "Diesel  First Owner             9.792325e+05\n",
       "        Fourth & Above Owner    3.170056e+05\n",
       "        Second Owner            4.912978e+05\n",
       "        Test Drive Car          1.350000e+06\n",
       "        Third Owner             3.779866e+05\n",
       "LPG     First Owner             2.508824e+05\n",
       "        Fourth & Above Owner    1.350000e+05\n",
       "        Second Owner            1.640714e+05\n",
       "        Third Owner             1.568000e+05\n",
       "Petrol  First Owner             5.668341e+05\n",
       "        Fourth & Above Owner    1.310488e+05\n",
       "        Second Owner            2.586365e+05\n",
       "        Test Drive Car          5.167250e+06\n",
       "        Third Owner             1.846488e+05\n",
       "Name: selling_price, dtype: float64"
      ]
     },
     "execution_count": 127,
     "metadata": {},
     "output_type": "execute_result"
    }
   ],
   "source": [
    "df.groupby([\"fuel\",\"owner\"])[\"selling_price\"].mean()             "
   ]
  },
  {
   "cell_type": "code",
   "execution_count": 130,
   "id": "2d6ee557",
   "metadata": {},
   "outputs": [
    {
     "data": {
      "text/plain": [
       "Maruti Swift Dzire VDI                             129\n",
       "Maruti Alto 800 LXI                                 82\n",
       "Maruti Alto LXi                                     71\n",
       "BMW X4 M Sport X xDrive20d                          62\n",
       "Maruti Swift VDI                                    61\n",
       "                                                  ... \n",
       "Skoda Fabia 1.4 TDI Ambiente                         1\n",
       "Mahindra Scorpio VLX 2WD AT BSIII                    1\n",
       "Renault KWID Climber 1.0 AMT                         1\n",
       "Mahindra XUV300 W8 Option Dual Tone Diesel BSIV      1\n",
       "Toyota Innova 2.5 GX (Diesel) 8 Seater BS IV         1\n",
       "Name: name, Length: 2058, dtype: int64"
      ]
     },
     "execution_count": 130,
     "metadata": {},
     "output_type": "execute_result"
    }
   ],
   "source": [
    "df[\"name\"].value_counts()            # we have 2058 different cars AND TOP SELLING CAR IS SWIFT DEZIRE"
   ]
  },
  {
   "cell_type": "code",
   "execution_count": 135,
   "id": "d53067d6",
   "metadata": {},
   "outputs": [
    {
     "data": {
      "text/html": [
       "<div>\n",
       "<style scoped>\n",
       "    .dataframe tbody tr th:only-of-type {\n",
       "        vertical-align: middle;\n",
       "    }\n",
       "\n",
       "    .dataframe tbody tr th {\n",
       "        vertical-align: top;\n",
       "    }\n",
       "\n",
       "    .dataframe thead th {\n",
       "        text-align: right;\n",
       "    }\n",
       "</style>\n",
       "<table border=\"1\" class=\"dataframe\">\n",
       "  <thead>\n",
       "    <tr style=\"text-align: right;\">\n",
       "      <th></th>\n",
       "      <th>min</th>\n",
       "      <th>max</th>\n",
       "      <th>mean</th>\n",
       "    </tr>\n",
       "    <tr>\n",
       "      <th>name</th>\n",
       "      <th></th>\n",
       "      <th></th>\n",
       "      <th></th>\n",
       "    </tr>\n",
       "  </thead>\n",
       "  <tbody>\n",
       "    <tr>\n",
       "      <th>Ambassador CLASSIC 1500 DSL AC</th>\n",
       "      <td>75000</td>\n",
       "      <td>75000</td>\n",
       "      <td>75000.0</td>\n",
       "    </tr>\n",
       "    <tr>\n",
       "      <th>Ambassador Classic 2000 DSZ AC PS</th>\n",
       "      <td>99000</td>\n",
       "      <td>99000</td>\n",
       "      <td>99000.0</td>\n",
       "    </tr>\n",
       "    <tr>\n",
       "      <th>Ambassador Grand 1500 DSZ BSIII</th>\n",
       "      <td>122000</td>\n",
       "      <td>122000</td>\n",
       "      <td>122000.0</td>\n",
       "    </tr>\n",
       "    <tr>\n",
       "      <th>Ambassador Grand 2000 DSZ PW CL</th>\n",
       "      <td>200000</td>\n",
       "      <td>200000</td>\n",
       "      <td>200000.0</td>\n",
       "    </tr>\n",
       "    <tr>\n",
       "      <th>Ashok Leyland Stile LE</th>\n",
       "      <td>300000</td>\n",
       "      <td>300000</td>\n",
       "      <td>300000.0</td>\n",
       "    </tr>\n",
       "    <tr>\n",
       "      <th>...</th>\n",
       "      <td>...</td>\n",
       "      <td>...</td>\n",
       "      <td>...</td>\n",
       "    </tr>\n",
       "    <tr>\n",
       "      <th>Volvo V40 D3 R-Design</th>\n",
       "      <td>2475000</td>\n",
       "      <td>2475000</td>\n",
       "      <td>2475000.0</td>\n",
       "    </tr>\n",
       "    <tr>\n",
       "      <th>Volvo XC40 D4 Inscription BSIV</th>\n",
       "      <td>3800000</td>\n",
       "      <td>3800000</td>\n",
       "      <td>3800000.0</td>\n",
       "    </tr>\n",
       "    <tr>\n",
       "      <th>Volvo XC40 D4 R-Design</th>\n",
       "      <td>3400000</td>\n",
       "      <td>3400000</td>\n",
       "      <td>3400000.0</td>\n",
       "    </tr>\n",
       "    <tr>\n",
       "      <th>Volvo XC60 Inscription D5 BSIV</th>\n",
       "      <td>5500000</td>\n",
       "      <td>5500000</td>\n",
       "      <td>5500000.0</td>\n",
       "    </tr>\n",
       "    <tr>\n",
       "      <th>Volvo XC90 T8 Excellence BSIV</th>\n",
       "      <td>10000000</td>\n",
       "      <td>10000000</td>\n",
       "      <td>10000000.0</td>\n",
       "    </tr>\n",
       "  </tbody>\n",
       "</table>\n",
       "<p>2058 rows × 3 columns</p>\n",
       "</div>"
      ],
      "text/plain": [
       "                                        min       max        mean\n",
       "name                                                             \n",
       "Ambassador CLASSIC 1500 DSL AC        75000     75000     75000.0\n",
       "Ambassador Classic 2000 DSZ AC PS     99000     99000     99000.0\n",
       "Ambassador Grand 1500 DSZ BSIII      122000    122000    122000.0\n",
       "Ambassador Grand 2000 DSZ PW CL      200000    200000    200000.0\n",
       "Ashok Leyland Stile LE               300000    300000    300000.0\n",
       "...                                     ...       ...         ...\n",
       "Volvo V40 D3 R-Design               2475000   2475000   2475000.0\n",
       "Volvo XC40 D4 Inscription BSIV      3800000   3800000   3800000.0\n",
       "Volvo XC40 D4 R-Design              3400000   3400000   3400000.0\n",
       "Volvo XC60 Inscription D5 BSIV      5500000   5500000   5500000.0\n",
       "Volvo XC90 T8 Excellence BSIV      10000000  10000000  10000000.0\n",
       "\n",
       "[2058 rows x 3 columns]"
      ]
     },
     "execution_count": 135,
     "metadata": {},
     "output_type": "execute_result"
    }
   ],
   "source": [
    "df.groupby(\"name\")[\"selling_price\"].agg([\"min\",\"max\",\"mean\"])                      # min and max selling price of differnt cars"
   ]
  },
  {
   "cell_type": "code",
   "execution_count": 137,
   "id": "18407212",
   "metadata": {},
   "outputs": [
    {
     "data": {
      "image/png": "[encoded data removed]",
      "text/plain": [
       "<Figure size 720x360 with 2 Axes>"
      ]
     },
     "metadata": {
      "needs_background": "light"
     },
     "output_type": "display_data"
    },
    {
     "data": {
      "image/png": "[encoded data removed]",
      "text/plain": [
       "<Figure size 720x360 with 2 Axes>"
      ]
     },
     "metadata": {
      "needs_background": "light"
     },
     "output_type": "display_data"
    },
    {
     "data": {
      "image/png": "[encoded data removed]",
      "text/plain": [
       "<Figure size 720x360 with 2 Axes>"
      ]
     },
     "metadata": {
      "needs_background": "light"
     },
     "output_type": "display_data"
    },
    {
     "data": {
      "image/png": "[encoded data removed]",
      "text/plain": [
       "<Figure size 720x360 with 2 Axes>"
      ]
     },
     "metadata": {
      "needs_background": "light"
     },
     "output_type": "display_data"
    }
   ],
   "source": [
    "for i in[\"mileage\",\"max_power\",\"engine\",\"torque\"]:\n",
    "    sns.relplot(x= i,y=\"selling_price\",data=df,col=\"transmission\",col_wrap=2)        #checking correlation between data columns"
   ]
  },
  {
   "cell_type": "code",
   "execution_count": 149,
   "id": "681f1812",
   "metadata": {
    "scrolled": true
   },
   "outputs": [
    {
     "data": {
      "image/png": "[encoded data removed]",
      "text/plain": [
       "<Figure size 432x432 with 1 Axes>"
      ]
     },
     "metadata": {
      "needs_background": "light"
     },
     "output_type": "display_data"
    }
   ],
   "source": [
    "plt.figure(figsize=(6,6))\n",
    "sns.boxplot(x=\"fuel\",y=\"selling_price\",data=df);          #for checking outliners in fuel type vs selling price "
   ]
  },
  {
   "cell_type": "code",
   "execution_count": 151,
   "id": "8c96c10a",
   "metadata": {},
   "outputs": [
    {
     "data": {
      "image/png": "[encoded data removed]",
      "text/plain": [
       "<Figure size 432x432 with 1 Axes>"
      ]
     },
     "metadata": {
      "needs_background": "light"
     },
     "output_type": "display_data"
    }
   ],
   "source": [
    "plt.figure(figsize=(6,6))\n",
    "sns.lineplot(x=\"year\",y=\"selling_price\",data=df);"
   ]
  },
  {
   "cell_type": "code",
   "execution_count": null,
   "id": "496fe59e",
   "metadata": {},
   "outputs": [],
   "source": []
  }
 ],
 "metadata": {
  "kernelspec": {
   "display_name": "Python 3 (ipykernel)",
   "language": "python",
   "name": "python3"
  },
  "language_info": {
   "codemirror_mode": {
    "name": "ipython",
    "version": 3
   },
   "file_extension": ".py",
   "mimetype": "text/x-python",
   "name": "python",
   "nbconvert_exporter": "python",
   "pygments_lexer": "ipython3",
   "version": "3.10.2"
  }
 },
 "nbformat": 4,
 "nbformat_minor": 5
}
